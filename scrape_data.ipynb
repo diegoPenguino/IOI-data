{
 "cells": [
  {
   "cell_type": "code",
   "execution_count": 5,
   "metadata": {},
   "outputs": [],
   "source": [
    "from ioi_helper import get_all_contests, get_year_data\n",
    "from ioi_helper import get_by_country, get_most_participations, get_best_contestants\n",
    "from ioi_helper import get_all_administration, get_administration_by_year\n",
    "from ioi_helper import get_all_NC, get_NC_by_year\n",
    "from ioi_helper import get_all_data"
   ]
  },
  {
   "cell_type": "code",
   "execution_count": 6,
   "metadata": {},
   "outputs": [],
   "source": [
    "get_all_data()"
   ]
  }
 ],
 "metadata": {
  "kernelspec": {
   "display_name": "web-scraping",
   "language": "python",
   "name": "python3"
  },
  "language_info": {
   "codemirror_mode": {
    "name": "ipython",
    "version": 3
   },
   "file_extension": ".py",
   "mimetype": "text/x-python",
   "name": "python",
   "nbconvert_exporter": "python",
   "pygments_lexer": "ipython3",
   "version": "3.11.10"
  }
 },
 "nbformat": 4,
 "nbformat_minor": 2
}
